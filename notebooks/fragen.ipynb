{
 "cells": [
  {
   "cell_type": "markdown",
   "id": "48583ff41aacf455",
   "metadata": {},
   "source": [
    "Datenvorbereitung\n",
    "Definitionen von Armut, etc.\n",
    "Klassifizierung der einzelnen Steps nach Crisp-DM"
   ]
  },
  {
   "cell_type": "code",
   "execution_count": 4,
   "id": "85c2373292ccf8c0",
   "metadata": {
    "ExecuteTime": {
     "end_time": "2024-04-17T13:01:42.839410Z",
     "start_time": "2024-04-17T13:01:42.579417Z"
    }
   },
   "outputs": [
    {
     "ename": "FileNotFoundError",
     "evalue": "[WinError 3] Le chemin d’accès spécifié est introuvable: 'data'",
     "output_type": "error",
     "traceback": [
      "\u001b[1;31m---------------------------------------------------------------------------\u001b[0m",
      "\u001b[1;31mFileNotFoundError\u001b[0m                         Traceback (most recent call last)",
      "Cell \u001b[1;32mIn[4], line 86\u001b[0m\n\u001b[0;32m     84\u001b[0m \u001b[38;5;66;03m# Call the function with the folder path\u001b[39;00m\n\u001b[0;32m     85\u001b[0m folder_path \u001b[38;5;241m=\u001b[39m \u001b[38;5;124m'\u001b[39m\u001b[38;5;124mdata\u001b[39m\u001b[38;5;124m'\u001b[39m\n\u001b[1;32m---> 86\u001b[0m result_df \u001b[38;5;241m=\u001b[39m \u001b[43mprocess_csv_files\u001b[49m\u001b[43m(\u001b[49m\u001b[43mfolder_path\u001b[49m\u001b[43m)\u001b[49m\n\u001b[0;32m     88\u001b[0m \u001b[38;5;66;03m# Display the result DataFrame\u001b[39;00m\n\u001b[0;32m     89\u001b[0m display(result_df)\n",
      "Cell \u001b[1;32mIn[4], line 14\u001b[0m, in \u001b[0;36mprocess_csv_files\u001b[1;34m(folder_path)\u001b[0m\n\u001b[0;32m     10\u001b[0m \u001b[38;5;28;01mdef\u001b[39;00m \u001b[38;5;21mprocess_csv_files\u001b[39m(folder_path):\n\u001b[0;32m     11\u001b[0m     \u001b[38;5;66;03m# Get list of all CSV files in the folder\u001b[39;00m\n\u001b[0;32m     12\u001b[0m     file_paths \u001b[38;5;241m=\u001b[39m [\n\u001b[0;32m     13\u001b[0m         os\u001b[38;5;241m.\u001b[39mpath\u001b[38;5;241m.\u001b[39mjoin(folder_path, file)\n\u001b[1;32m---> 14\u001b[0m         \u001b[38;5;28;01mfor\u001b[39;00m file \u001b[38;5;129;01min\u001b[39;00m \u001b[43mos\u001b[49m\u001b[38;5;241;43m.\u001b[39;49m\u001b[43mlistdir\u001b[49m\u001b[43m(\u001b[49m\u001b[43mfolder_path\u001b[49m\u001b[43m)\u001b[49m\n\u001b[0;32m     15\u001b[0m         \u001b[38;5;28;01mif\u001b[39;00m file\u001b[38;5;241m.\u001b[39mendswith(\u001b[38;5;124m'\u001b[39m\u001b[38;5;124m.csv\u001b[39m\u001b[38;5;124m'\u001b[39m)\n\u001b[0;32m     16\u001b[0m     ]\n\u001b[0;32m     19\u001b[0m \u001b[38;5;66;03m# List to store DataFrames\u001b[39;00m\n\u001b[0;32m     20\u001b[0m     dfs \u001b[38;5;241m=\u001b[39m []\n",
      "\u001b[1;31mFileNotFoundError\u001b[0m: [WinError 3] Le chemin d’accès spécifié est introuvable: 'data'"
     ]
    }
   ],
   "source": [
    "import pandas as pd\n",
    "import os\n",
    "\n",
    "suicide_df = pd.DataFrame()\n",
    "suicide_df = pd.read_csv('/home/jakob/Uni/data_visualization/Rastetter-Dietrich-Denig/data/suicide_rates.csv') # Quelle: WHO\n",
    "for column in suicide_df.columns[1:]:\n",
    "    # Extract point estimates from entries in the column\n",
    "    suicide_df[column] = suicide_df[column].apply(lambda x: float(x.split()[0]) if isinstance(x, str) else x)\n",
    "\n",
    "def process_csv_files(folder_path):\n",
    "    # Get list of all CSV files in the folder\n",
    "    file_paths = [\n",
    "        os.path.join(folder_path, file)\n",
    "        for file in os.listdir(folder_path)\n",
    "        if file.endswith('.csv')\n",
    "    ]\n",
    "\n",
    "\n",
    "# List to store DataFrames\n",
    "    dfs = []\n",
    "\n",
    "    for file_path in file_paths:\n",
    "        df = pd.read_csv(file_path)\n",
    "\n",
    "        # Rename columns\n",
    "        df.rename(columns={'Year(s)': 'Year', 'Time Period': 'Year', 'Reference Area': 'Country or Area',\n",
    "                           'Observation Value': 'Value', 'Country or territory of origin': 'Country or Area',\n",
    "                           'Refugees*': 'Value', 'Countries, territories and areas': 'Country or Area'},\n",
    "                  inplace=True)\n",
    "\n",
    "        # Filter out rows with year 2101\n",
    "        df = df[df['Year'] != 2101]\n",
    "\n",
    "        # Filter rows where 'Sex' column is 'all genders'\n",
    "        if 'Sex' in df.columns:\n",
    "            df = df[df['Sex'] == 'All genders']\n",
    "\n",
    "        # Filter columns\n",
    "        df = df[['Country or Area', 'Year', 'Value']]\n",
    "\n",
    "        # Convert data types\n",
    "        df['Year'] = pd.to_numeric(df['Year'], errors='coerce')  # Convert to numeric, coerce errors to NaN\n",
    "        df['Value'] = pd.to_numeric(df['Value'], errors='coerce')  # Convert to numeric, coerce errors to NaN\n",
    "\n",
    "        # Extract the last part of the file path as the column suffix\n",
    "        file_name = os.path.splitext(os.path.basename(file_path))[0]\n",
    "\n",
    "        # Create custom column names\n",
    "        custom_names = [f'{file_name}' if col == 'Value' else col for col in ['Country or Area', 'Year', 'Value']]\n",
    "\n",
    "        # Rename columns\n",
    "        df.columns = custom_names\n",
    "        dfs.append(df)\n",
    "\n",
    "    # Merge the DataFrames based on 'Country or Area' and 'Year'\n",
    "    combined_df = dfs[0]\n",
    "    for df in dfs[1:]:\n",
    "        combined_df = pd.merge(combined_df, df, on=['Country or Area', 'Year'], how='outer')\n",
    "\n",
    "    # Regions to exclude\n",
    "    regions_to_exclude = ['Africa', 'Asia', 'Australia/New Zealand', 'Australia/New Zealand', 'World', 'Eastern Africa',\n",
    "                          'Eastern Africa', 'Eastern and South-Eastern Asia', 'Eastern Europe', 'High-income countries',\n",
    "                          'Land-locked Developing Countries (LLDC)', 'Less developed regions, excluding China',\n",
    "                          'Less developed regions',\n",
    "                          'Less developed regions, excluding least developed countries',\n",
    "                          'Small Island Developing States (SIDS)',\n",
    "                          'No income group available', 'Northern Africa', 'Northern Africa and Western Asia',\n",
    "                          'Northern America',\n",
    "                          'Northern Europe', 'Low-income countries', 'Middle-income countries', 'More developed regions',\n",
    "                          'Middle Africa',\n",
    "                          'Eastern Asia', 'Soutern Asia', 'Western Europe', 'Upper-middle-income countries',\n",
    "                          'Lower-middle-income countries',\n",
    "                          'Europe', 'South-Eastern Asia', 'Southern Europe', 'Southern Asia', 'Southern Africa',\n",
    "                          'Europe and Northern America',\n",
    "                          'Central Asia', 'Central America', 'Central and Southern Asia', 'Sub-Saharan Africa',\n",
    "                          'Least developed countries',\n",
    "                          'Latin America and the Caribbean', 'Western Africa', 'South America', 'Western Asia']\n",
    "\n",
    "    # Filter out regions\n",
    "    filtered_combined_df = combined_df[~combined_df['Country or Area'].isin(regions_to_exclude)]\n",
    "\n",
    "    return filtered_combined_df\n",
    "\n",
    "# Call the function with the folder path\n",
    "folder_path = '/home/jakob/Uni/data_visualization/Rastetter-Dietrich-Denig/data'\n",
    "result_df = process_csv_files(folder_path)\n",
    "\n",
    "# Display the result DataFrame\n",
    "display(result_df)"
   ]
  },
  {
   "cell_type": "markdown",
   "id": "5fad03f6db0fc5d2",
   "metadata": {},
   "source": [
    "1. Wie haben sich die globalen Selbstmordraten in den letzten x Jahren entwickelt? (Daten immer Schätzungen)"
   ]
  },
  {
   "cell_type": "code",
   "execution_count": null,
   "id": "a0dfbf0b4b31a8ad",
   "metadata": {
    "ExecuteTime": {
     "end_time": "2024-04-17T13:01:42.841299Z",
     "start_time": "2024-04-17T13:01:42.840072Z"
    }
   },
   "outputs": [],
   "source": []
  },
  {
   "cell_type": "markdown",
   "id": "c9506ce96c394300",
   "metadata": {},
   "source": [
    "2. Wie viel Prozent der Weltbevölkerung sind aktuell Flüchtlinge?"
   ]
  },
  {
   "cell_type": "code",
   "execution_count": null,
   "id": "b1eabab9821cdd79",
   "metadata": {
    "ExecuteTime": {
     "end_time": "2024-04-17T13:01:42.842580Z",
     "start_time": "2024-04-17T13:01:42.841622Z"
    }
   },
   "outputs": [
    {
     "ename": "NameError",
     "evalue": "name 'result_df' is not defined",
     "output_type": "error",
     "traceback": [
      "\u001b[1;31m---------------------------------------------------------------------------\u001b[0m",
      "\u001b[1;31mNameError\u001b[0m                                 Traceback (most recent call last)",
      "Cell \u001b[1;32mIn[1], line 7\u001b[0m\n\u001b[0;32m      4\u001b[0m \u001b[38;5;28;01mfrom\u001b[39;00m \u001b[38;5;21;01mscipy\u001b[39;00m\u001b[38;5;21;01m.\u001b[39;00m\u001b[38;5;21;01minterpolate\u001b[39;00m \u001b[38;5;28;01mimport\u001b[39;00m make_interp_spline\n\u001b[0;32m      6\u001b[0m \u001b[38;5;66;03m# Filter data for the period from 1975 to 2021\u001b[39;00m\n\u001b[1;32m----> 7\u001b[0m result_df_period \u001b[38;5;241m=\u001b[39m \u001b[43mresult_df\u001b[49m[(result_df[\u001b[38;5;124m'\u001b[39m\u001b[38;5;124mYear\u001b[39m\u001b[38;5;124m'\u001b[39m] \u001b[38;5;241m>\u001b[39m\u001b[38;5;241m=\u001b[39m \u001b[38;5;241m1975\u001b[39m) \u001b[38;5;241m&\u001b[39m (result_df[\u001b[38;5;124m'\u001b[39m\u001b[38;5;124mYear\u001b[39m\u001b[38;5;124m'\u001b[39m] \u001b[38;5;241m<\u001b[39m\u001b[38;5;241m=\u001b[39m \u001b[38;5;241m2021\u001b[39m)]\n\u001b[0;32m      9\u001b[0m \u001b[38;5;66;03m# Calculate the total number of refugees for each year\u001b[39;00m\n\u001b[0;32m     10\u001b[0m total_refugees_per_year \u001b[38;5;241m=\u001b[39m result_df_period\u001b[38;5;241m.\u001b[39mgroupby(\u001b[38;5;124m'\u001b[39m\u001b[38;5;124mYear\u001b[39m\u001b[38;5;124m'\u001b[39m)[\u001b[38;5;124m'\u001b[39m\u001b[38;5;124mrefugees_origin\u001b[39m\u001b[38;5;124m'\u001b[39m]\u001b[38;5;241m.\u001b[39msum()\n",
      "\u001b[1;31mNameError\u001b[0m: name 'result_df' is not defined"
     ]
    }
   ],
   "source": [
    "import matplotlib.pyplot as plt\n",
    "import pandas as pd\n",
    "import numpy as np\n",
    "from scipy.interpolate import make_interp_spline\n",
    "\n",
    "# Filter data for the period from 1975 to 2021\n",
    "result_df_period = result_df[(result_df['Year'] >= 1975) & (result_df['Year'] <= 2021)]\n",
    "\n",
    "# Calculate the total number of refugees for each year\n",
    "total_refugees_per_year = result_df_period.groupby('Year')['refugees_origin'].sum()\n",
    "\n",
    "# Estimated world population for each year (Source: United Nations)\n",
    "world_population_per_year = {\n",
    "    1975: 4.07e9, 1976: 4.13e9, 1977: 4.19e9, 1978: 4.25e9, 1979: 4.31e9,\n",
    "    1980: 4.37e9, 1981: 4.43e9, 1982: 4.49e9, 1983: 4.55e9, 1984: 4.61e9,\n",
    "    1985: 4.67e9, 1986: 4.73e9, 1987: 4.79e9, 1988: 4.85e9, 1989: 4.92e9,\n",
    "    1990: 5.01e9, 1991: 5.11e9, 1992: 5.21e9, 1993: 5.31e9, 1994: 5.41e9,\n",
    "    1995: 5.51e9, 1996: 5.61e9, 1997: 5.71e9, 1998: 5.81e9, 1999: 5.91e9,\n",
    "    2000: 6.01e9, 2001: 6.11e9, 2002: 6.21e9, 2003: 6.31e9, 2004: 6.41e9,\n",
    "    2005: 6.51e9, 2006: 6.61e9, 2007: 6.71e9, 2008: 6.81e9, 2009: 6.91e9,\n",
    "    2010: 7.01e9, 2011: 7.11e9, 2012: 7.21e9, 2013: 7.31e9, 2014: 7.4e9,\n",
    "    2015: 7.48e9, 2016: 7.55e9, 2017: 7.62e9, 2018: 7.68e9, 2019: 7.74e9,\n",
    "    2020: 7.79e9, 2021: 7.84e9\n",
    "}\n",
    "\n",
    "# Calculate the percentage of refugees compared to the world population for each year\n",
    "percentage_refugees_per_year = (total_refugees_per_year / pd.Series(world_population_per_year)) * 100\n",
    "\n",
    "# Smooth the data using spline interpolation\n",
    "x_smooth = np.linspace(percentage_refugees_per_year.index.min(), percentage_refugees_per_year.index.max(), 300)\n",
    "y_smooth = make_interp_spline(percentage_refugees_per_year.index, percentage_refugees_per_year.values)(x_smooth)\n",
    "\n",
    "# Create the plot\n",
    "plt.figure(figsize=(12, 6))\n",
    "plt.plot(x_smooth, y_smooth, linestyle='-', color='blue')\n",
    "\n",
    "# Add data labels\n",
    "for year, percentage in zip(percentage_refugees_per_year.index, percentage_refugees_per_year.values):\n",
    "    plt.text(year, percentage, f'{percentage:.2f}', ha='center', va='bottom', fontsize=8)\n",
    "\n",
    "plt.title('Percentage of World Population That Are Refugees (1975-2021)', fontsize=14)\n",
    "plt.xlabel('Year', fontsize=12)\n",
    "plt.ylabel('Percentage of Refugees to World Population', fontsize=12)\n",
    "plt.grid(True)\n",
    "plt.xticks(range(1975, 2022, 2))\n",
    "plt.tight_layout()"
   ]
  },
  {
   "cell_type": "markdown",
   "id": "2d934cfc439bc9",
   "metadata": {},
   "source": [
    "3. Bis 1990 hatten 19 Länder eine Präsidentin, wie viele hatten eine Präsisdentin bis heute?"
   ]
  },
  {
   "cell_type": "code",
   "execution_count": null,
   "id": "21a0aac8a65bbf48",
   "metadata": {
    "ExecuteTime": {
     "end_time": "2024-04-17T13:01:42.846079Z",
     "start_time": "2024-04-17T13:01:42.844759Z"
    }
   },
   "outputs": [],
   "source": [
    "# country leader data Quelle: https://dataverse.harvard.edu/dataset.xhtml?persistentId=doi:10.7910/DVN/YUS575\n",
    "# county leader data not added"
   ]
  },
  {
   "cell_type": "markdown",
   "id": "16f21f4c0938acfc",
   "metadata": {},
   "source": [
    "4. An welchem der folgenden Gründe sterben die meisten Menschen in Afrika"
   ]
  },
  {
   "cell_type": "code",
   "execution_count": null,
   "id": "5ea23bd84a578ede",
   "metadata": {
    "ExecuteTime": {
     "end_time": "2024-04-17T13:01:42.847467Z",
     "start_time": "2024-04-17T13:01:42.846382Z"
    }
   },
   "outputs": [],
   "source": []
  },
  {
   "cell_type": "markdown",
   "id": "9088a78530226c35",
   "metadata": {},
   "source": [
    "5. Um wie viel Prozent hat sich die Bevölkerung in extremer Armut in den letzten x Jahren verändert?"
   ]
  },
  {
   "cell_type": "code",
   "execution_count": null,
   "id": "c545e7922ba1a44",
   "metadata": {
    "ExecuteTime": {
     "end_time": "2024-04-17T13:01:42.848926Z",
     "start_time": "2024-04-17T13:01:42.847869Z"
    }
   },
   "outputs": [],
   "source": []
  },
  {
   "cell_type": "markdown",
   "id": "f78351dd13f89cc5",
   "metadata": {},
   "source": [
    "6. Wie viele Jahre Schulbildung erfahren Menschen in reichen, mittleren und armene Ländern im Durchschnitt?"
   ]
  },
  {
   "cell_type": "code",
   "execution_count": null,
   "id": "4e6eded5f8b6becb",
   "metadata": {
    "ExecuteTime": {
     "end_time": "2024-04-17T13:01:42.850184Z",
     "start_time": "2024-04-17T13:01:42.849239Z"
    }
   },
   "outputs": [],
   "source": []
  },
  {
   "cell_type": "markdown",
   "id": "d3a94862b19c8234",
   "metadata": {},
   "source": [
    "7. Das Einkommen in reichen Ländern hat sich seit xxxx ca. verdoppelt, wie hat sich das Einkommen in dieser Zeit in armen Ländern entwickelt"
   ]
  },
  {
   "cell_type": "code",
   "execution_count": null,
   "id": "404d40729cc336a7",
   "metadata": {
    "ExecuteTime": {
     "end_time": "2024-04-17T13:01:42.851498Z",
     "start_time": "2024-04-17T13:01:42.850558Z"
    }
   },
   "outputs": [],
   "source": []
  },
  {
   "cell_type": "markdown",
   "id": "20aea3f236845305",
   "metadata": {},
   "source": [
    "8. Wie haben sich die Todesfälle durch Naturktastrophen in den letzten xx Jahren verändert?"
   ]
  },
  {
   "cell_type": "code",
   "execution_count": null,
   "id": "9a048a2ee8781875",
   "metadata": {
    "ExecuteTime": {
     "end_time": "2024-04-17T13:01:42.852854Z",
     "start_time": "2024-04-17T13:01:42.851807Z"
    }
   },
   "outputs": [],
   "source": []
  },
  {
   "cell_type": "markdown",
   "id": "6d270ac0b5cf097",
   "metadata": {},
   "source": [
    "9. Wie glücklich sind die Menschen weltweit"
   ]
  },
  {
   "cell_type": "code",
   "execution_count": null,
   "id": "5fd24ab4d1fe0ced",
   "metadata": {
    "ExecuteTime": {
     "end_time": "2024-04-17T13:01:42.854606Z",
     "start_time": "2024-04-17T13:01:42.853554Z"
    }
   },
   "outputs": [],
   "source": []
  },
  {
   "cell_type": "markdown",
   "id": "50b7bb0b6e37b472",
   "metadata": {},
   "source": [
    "10. Wie viel Prozent der Kinder unter 6 wurde mindestens einmal geimpft"
   ]
  },
  {
   "cell_type": "markdown",
   "id": "6a0438565c346f95",
   "metadata": {},
   "source": [
    "Fragen durch gapminder.org inspiriert\n",
    "evtl vorhersagen mitintegrieren (regressionsmodelle)"
   ]
  }
 ],
 "metadata": {
  "kernelspec": {
   "display_name": "Python 3 (ipykernel)",
   "language": "python",
   "name": "python3"
  },
  "language_info": {
   "codemirror_mode": {
    "name": "ipython",
    "version": 3
   },
   "file_extension": ".py",
   "mimetype": "text/x-python",
   "name": "python",
   "nbconvert_exporter": "python",
   "pygments_lexer": "ipython3",
   "version": "3.12.3"
  }
 },
 "nbformat": 4,
 "nbformat_minor": 5
}
