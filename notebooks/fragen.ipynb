{
 "cells": [
  {
   "metadata": {},
   "cell_type": "markdown",
   "source": [
    "Datenvorbereitung\n",
    "Definitionen von Armut, etc.\n",
    "Klassifizierung der einzelnen Steps nach Crisp-DM"
   ],
   "id": "48583ff41aacf455"
  },
  {
   "metadata": {
    "ExecuteTime": {
     "end_time": "2024-04-17T10:47:06.944021Z",
     "start_time": "2024-04-17T10:47:06.614675Z"
    }
   },
   "cell_type": "code",
   "source": [
    "import pandas as pd\n",
    "import os\n",
    "\n",
    "suicide_df = pd.DataFrame()\n",
    "suicide_df = pd.read_csv('/home/jakob/Uni/data_visualization/Rastetter-Dietrich-Denig/data/suicide_rates_age_stadardized.csv') # Quelle: WHO\n",
    "\n",
    "# country leader data Quelle: https://dataverse.harvard.edu/dataset.xhtml?persistentId=doi:10.7910/DVN/YUS575\n",
    "# county leader data not added\n",
    "\n",
    "def process_csv_files(folder_path):\n",
    "    # Get list of all CSV files in the folder\n",
    "    exclude_file = 'suicide_rates_age_stadardized.csv'\n",
    "    file_paths = [\n",
    "        os.path.join(folder_path, file)\n",
    "        for file in os.listdir(folder_path)\n",
    "        if file.endswith('.csv') and file != exclude_file\n",
    "    ]\n",
    "\n",
    "\n",
    "# List to store DataFrames\n",
    "    dfs = []\n",
    "\n",
    "    for file_path in file_paths:\n",
    "        df = pd.read_csv(file_path)\n",
    "\n",
    "        # Rename columns\n",
    "        df.rename(columns={'Year(s)': 'Year', 'Time Period': 'Year', 'Reference Area': 'Country or Area',\n",
    "                           'Observation Value': 'Value', 'Country or territory of origin': 'Country or Area',\n",
    "                           'Refugees*': 'Value'},\n",
    "                  inplace=True)\n",
    "\n",
    "        # Filter out rows with year 2101\n",
    "        df = df[df['Year'] != 2101]\n",
    "\n",
    "        # Filter rows where 'Sex' column is 'all genders'\n",
    "        if 'Sex' in df.columns:\n",
    "            df = df[df['Sex'] == 'All genders']\n",
    "\n",
    "        # Filter columns\n",
    "        df = df[['Country or Area', 'Year', 'Value']]\n",
    "\n",
    "        # Convert data types\n",
    "        df['Year'] = pd.to_numeric(df['Year'], errors='coerce')  # Convert to numeric, coerce errors to NaN\n",
    "        df['Value'] = pd.to_numeric(df['Value'], errors='coerce')  # Convert to numeric, coerce errors to NaN\n",
    "\n",
    "        # Extract the last part of the file path as the column suffix\n",
    "        file_name = os.path.splitext(os.path.basename(file_path))[0]\n",
    "\n",
    "        # Create custom column names\n",
    "        custom_names = [f'{file_name}' if col == 'Value' else col for col in ['Country or Area', 'Year', 'Value']]\n",
    "\n",
    "        # Rename columns\n",
    "        df.columns = custom_names\n",
    "        dfs.append(df)\n",
    "\n",
    "    # Merge the DataFrames based on 'Country or Area' and 'Year'\n",
    "    combined_df = dfs[0]\n",
    "    for df in dfs[1:]:\n",
    "        combined_df = pd.merge(combined_df, df, on=['Country or Area', 'Year'], how='outer')\n",
    "\n",
    "    # Regions to exclude\n",
    "    regions_to_exclude = ['Africa', 'Asia', 'Australia/New Zealand', 'Australia/New Zealand', 'World', 'Eastern Africa',\n",
    "                          'Eastern Africa', 'Eastern and South-Eastern Asia', 'Eastern Europe', 'High-income countries',\n",
    "                          'Land-locked Developing Countries (LLDC)', 'Less developed regions, excluding China',\n",
    "                          'Less developed regions',\n",
    "                          'Less developed regions, excluding least developed countries',\n",
    "                          'Small Island Developing States (SIDS)',\n",
    "                          'No income group available', 'Northern Africa', 'Northern Africa and Western Asia',\n",
    "                          'Northern America',\n",
    "                          'Northern Europe', 'Low-income countries', 'Middle-income countries', 'More developed regions',\n",
    "                          'Middle Africa',\n",
    "                          'Eastern Asia', 'Soutern Asia', 'Western Europe', 'Upper-middle-income countries',\n",
    "                          'Lower-middle-income countries',\n",
    "                          'Europe', 'South-Eastern Asia', 'Southern Europe', 'Southern Asia', 'Southern Africa',\n",
    "                          'Europe and Northern America',\n",
    "                          'Central Asia', 'Central America', 'Central and Southern Asia', 'Sub-Saharan Africa',\n",
    "                          'Least developed countries',\n",
    "                          'Latin America and the Caribbean', 'Western Africa', 'South America', 'Western Asia']\n",
    "\n",
    "    # Filter out regions\n",
    "    filtered_combined_df = combined_df[~combined_df['Country or Area'].isin(regions_to_exclude)]\n",
    "\n",
    "    return filtered_combined_df\n",
    "\n",
    "# Call the function with the folder path\n",
    "folder_path = '/home/jakob/Uni/data_visualization/Rastetter-Dietrich-Denig/data'\n",
    "result_df = process_csv_files(folder_path)\n",
    "\n",
    "# Display the result DataFrame\n",
    "print(result_df.info())\n",
    "print(suicide_df.info())"
   ],
   "id": "85c2373292ccf8c0",
   "outputs": [
    {
     "name": "stdout",
     "output_type": "stream",
     "text": [
      "<class 'pandas.core.frame.DataFrame'>\n",
      "Int64Index: 128409 entries, 0 to 139129\n",
      "Data columns (total 9 columns):\n",
      " #   Column                               Non-Null Count   Dtype  \n",
      "---  ------                               --------------   -----  \n",
      " 0   Country or Area                      128409 non-null  object \n",
      " 1   Year                                 128406 non-null  float64\n",
      " 2   refugees_origin                      94375 non-null   float64\n",
      " 3   total_fertility_rate                 108632 non-null  float64\n",
      " 4   school_life_expextancy_ISCED_1-8     29296 non-null   float64\n",
      " 5   total_population                     108632 non-null  float64\n",
      " 6   life_expectancy                      108632 non-null  float64\n",
      " 7   infant_mortality_rate                108632 non-null  float64\n",
      " 8   GDP_per_capita_constant_dollar_2017  67166 non-null   float64\n",
      "dtypes: float64(8), object(1)\n",
      "memory usage: 9.8+ MB\n",
      "None\n",
      "<class 'pandas.core.frame.DataFrame'>\n",
      "RangeIndex: 184 entries, 0 to 183\n",
      "Data columns (total 21 columns):\n",
      " #   Column                                                      Non-Null Count  Dtype \n",
      "---  ------                                                      --------------  ----- \n",
      " 0   Unnamed: 0                                                  184 non-null    object\n",
      " 1   Age-standardized suicide rates (per 100 000 population)     184 non-null    object\n",
      " 2   Age-standardized suicide rates (per 100 000 population).1   184 non-null    object\n",
      " 3   Age-standardized suicide rates (per 100 000 population).2   184 non-null    object\n",
      " 4   Age-standardized suicide rates (per 100 000 population).3   184 non-null    object\n",
      " 5   Age-standardized suicide rates (per 100 000 population).4   184 non-null    object\n",
      " 6   Age-standardized suicide rates (per 100 000 population).5   184 non-null    object\n",
      " 7   Age-standardized suicide rates (per 100 000 population).6   184 non-null    object\n",
      " 8   Age-standardized suicide rates (per 100 000 population).7   184 non-null    object\n",
      " 9   Age-standardized suicide rates (per 100 000 population).8   184 non-null    object\n",
      " 10  Age-standardized suicide rates (per 100 000 population).9   184 non-null    object\n",
      " 11  Age-standardized suicide rates (per 100 000 population).10  184 non-null    object\n",
      " 12  Age-standardized suicide rates (per 100 000 population).11  184 non-null    object\n",
      " 13  Age-standardized suicide rates (per 100 000 population).12  184 non-null    object\n",
      " 14  Age-standardized suicide rates (per 100 000 population).13  184 non-null    object\n",
      " 15  Age-standardized suicide rates (per 100 000 population).14  184 non-null    object\n",
      " 16  Age-standardized suicide rates (per 100 000 population).15  184 non-null    object\n",
      " 17  Age-standardized suicide rates (per 100 000 population).16  184 non-null    object\n",
      " 18  Age-standardized suicide rates (per 100 000 population).17  184 non-null    object\n",
      " 19  Age-standardized suicide rates (per 100 000 population).18  184 non-null    object\n",
      " 20  Age-standardized suicide rates (per 100 000 population).19  184 non-null    object\n",
      "dtypes: object(21)\n",
      "memory usage: 30.3+ KB\n",
      "None\n"
     ]
    }
   ],
   "execution_count": 47
  },
  {
   "metadata": {},
   "cell_type": "markdown",
   "source": "1. Wie haben sich die globalen Selbstmordraten in den letzten x Jahren entwickelt?",
   "id": "5fad03f6db0fc5d2"
  },
  {
   "metadata": {
    "ExecuteTime": {
     "end_time": "2024-04-17T10:47:06.946616Z",
     "start_time": "2024-04-17T10:47:06.944972Z"
    }
   },
   "cell_type": "code",
   "source": "",
   "id": "a0dfbf0b4b31a8ad",
   "outputs": [],
   "execution_count": 47
  },
  {
   "metadata": {},
   "cell_type": "markdown",
   "source": "2. Wie viel Prozent der Weltbevölkerung sind aktuell Flüchtlinge?",
   "id": "c9506ce96c394300"
  },
  {
   "metadata": {
    "ExecuteTime": {
     "end_time": "2024-04-17T10:47:06.948650Z",
     "start_time": "2024-04-17T10:47:06.947283Z"
    }
   },
   "cell_type": "code",
   "source": "",
   "id": "b1eabab9821cdd79",
   "outputs": [],
   "execution_count": 47
  },
  {
   "metadata": {},
   "cell_type": "markdown",
   "source": "3. Bis 1990 hatten 19 Länder eine Präsidentin, wie viele hatten eine Präsisdentin bis heute?",
   "id": "2d934cfc439bc9"
  },
  {
   "metadata": {
    "ExecuteTime": {
     "end_time": "2024-04-17T10:47:06.951034Z",
     "start_time": "2024-04-17T10:47:06.949725Z"
    }
   },
   "cell_type": "code",
   "source": "",
   "id": "21a0aac8a65bbf48",
   "outputs": [],
   "execution_count": 47
  },
  {
   "metadata": {},
   "cell_type": "markdown",
   "source": "4. An welchem der folgenden Gründe sterben die meisten Menschen in Afrika",
   "id": "16f21f4c0938acfc"
  },
  {
   "metadata": {
    "ExecuteTime": {
     "end_time": "2024-04-17T10:47:06.952694Z",
     "start_time": "2024-04-17T10:47:06.951563Z"
    }
   },
   "cell_type": "code",
   "source": "",
   "id": "5ea23bd84a578ede",
   "outputs": [],
   "execution_count": 47
  },
  {
   "metadata": {},
   "cell_type": "markdown",
   "source": "5. Um wie viel Prozent hat sich die Bevölkerung in extremer Armut in den letzten x Jahren verändert?",
   "id": "9088a78530226c35"
  },
  {
   "metadata": {
    "ExecuteTime": {
     "end_time": "2024-04-17T10:47:06.954183Z",
     "start_time": "2024-04-17T10:47:06.953115Z"
    }
   },
   "cell_type": "code",
   "source": "",
   "id": "c545e7922ba1a44",
   "outputs": [],
   "execution_count": 47
  },
  {
   "metadata": {},
   "cell_type": "markdown",
   "source": "6. Wie viele Jahre Schulbildung erfahren Menschen in reichen, mittleren und armene Ländern im Durchschnitt?",
   "id": "f78351dd13f89cc5"
  },
  {
   "metadata": {
    "ExecuteTime": {
     "end_time": "2024-04-17T10:47:06.955622Z",
     "start_time": "2024-04-17T10:47:06.954562Z"
    }
   },
   "cell_type": "code",
   "source": "",
   "id": "4e6eded5f8b6becb",
   "outputs": [],
   "execution_count": 47
  },
  {
   "metadata": {},
   "cell_type": "markdown",
   "source": "7. Das Einkommen in reichen Ländern hat sich seit xxxx ca. verdoppelt, wie hat sich das Einkommen in dieser Zeit in armen Ländern entwickelt",
   "id": "d3a94862b19c8234"
  },
  {
   "metadata": {
    "ExecuteTime": {
     "end_time": "2024-04-17T10:47:06.957086Z",
     "start_time": "2024-04-17T10:47:06.956010Z"
    }
   },
   "cell_type": "code",
   "source": "",
   "id": "404d40729cc336a7",
   "outputs": [],
   "execution_count": 47
  },
  {
   "metadata": {},
   "cell_type": "markdown",
   "source": "8. Wie haben sich die Todesfälle durch Naturktastrophen in den letzten xx Jahren verändert?",
   "id": "20aea3f236845305"
  },
  {
   "metadata": {
    "ExecuteTime": {
     "end_time": "2024-04-17T10:47:06.958942Z",
     "start_time": "2024-04-17T10:47:06.957703Z"
    }
   },
   "cell_type": "code",
   "source": "",
   "id": "9a048a2ee8781875",
   "outputs": [],
   "execution_count": 47
  },
  {
   "metadata": {},
   "cell_type": "markdown",
   "source": "9. Wie glücklich sind die Menschen weltweit",
   "id": "6d270ac0b5cf097"
  },
  {
   "metadata": {
    "ExecuteTime": {
     "end_time": "2024-04-17T10:47:06.961653Z",
     "start_time": "2024-04-17T10:47:06.960365Z"
    }
   },
   "cell_type": "code",
   "source": "",
   "id": "5fd24ab4d1fe0ced",
   "outputs": [],
   "execution_count": 47
  },
  {
   "metadata": {},
   "cell_type": "markdown",
   "source": "10. Wie viel Prozent der Kinder unter 6 wurde mindestens einmal geimpft",
   "id": "50b7bb0b6e37b472"
  },
  {
   "metadata": {},
   "cell_type": "markdown",
   "source": "Fragen durch gapminder.org inspiriert",
   "id": "6a0438565c346f95"
  }
 ],
 "metadata": {
  "kernelspec": {
   "name": "python3",
   "language": "python",
   "display_name": "Python 3 (ipykernel)"
  }
 },
 "nbformat": 4,
 "nbformat_minor": 5
}
