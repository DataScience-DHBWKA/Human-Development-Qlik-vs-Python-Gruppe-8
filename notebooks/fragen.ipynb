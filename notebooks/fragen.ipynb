{
 "cells": [
  {
   "cell_type": "markdown",
   "id": "48583ff41aacf455",
   "metadata": {},
   "source": [
    "Datenvorbereitung\n",
    "Definitionen von Armut, etc.\n",
    "Klassifizierung der einzelnen Steps nach Crisp-DM"
   ]
  },
  {
   "cell_type": "code",
   "execution_count": 2,
   "id": "85c2373292ccf8c0",
   "metadata": {
    "ExecuteTime": {
     "end_time": "2024-04-17T08:49:59.501911Z",
     "start_time": "2024-04-17T08:49:59.157932Z"
    }
   },
   "outputs": [
    {
     "ename": "FileNotFoundError",
     "evalue": "[WinError 3] Le chemin d’accès spécifié est introuvable: '/home/jakob/Uni/data_visualization/Rastetter-Dietrich-Denig/data'",
     "output_type": "error",
     "traceback": [
      "\u001b[1;31m---------------------------------------------------------------------------\u001b[0m",
      "\u001b[1;31mFileNotFoundError\u001b[0m                         Traceback (most recent call last)",
      "Cell \u001b[1;32mIn[2], line 81\u001b[0m\n\u001b[0;32m     79\u001b[0m \u001b[38;5;66;03m# Call the function with the folder path\u001b[39;00m\n\u001b[0;32m     80\u001b[0m folder_path \u001b[38;5;241m=\u001b[39m \u001b[38;5;124m'\u001b[39m\u001b[38;5;124m/home/jakob/Uni/data_visualization/Rastetter-Dietrich-Denig/data\u001b[39m\u001b[38;5;124m'\u001b[39m\n\u001b[1;32m---> 81\u001b[0m result_df \u001b[38;5;241m=\u001b[39m \u001b[43mprocess_csv_files\u001b[49m\u001b[43m(\u001b[49m\u001b[43mfolder_path\u001b[49m\u001b[43m)\u001b[49m\n\u001b[0;32m     83\u001b[0m \u001b[38;5;66;03m# Display the result DataFrame\u001b[39;00m\n\u001b[0;32m     84\u001b[0m \u001b[38;5;28mprint\u001b[39m(result_df\u001b[38;5;241m.\u001b[39minfo())\n",
      "Cell \u001b[1;32mIn[2], line 6\u001b[0m, in \u001b[0;36mprocess_csv_files\u001b[1;34m(folder_path)\u001b[0m\n\u001b[0;32m      4\u001b[0m \u001b[38;5;28;01mdef\u001b[39;00m \u001b[38;5;21mprocess_csv_files\u001b[39m(folder_path):\n\u001b[0;32m      5\u001b[0m     \u001b[38;5;66;03m# Get list of all CSV files in the folder\u001b[39;00m\n\u001b[1;32m----> 6\u001b[0m     file_paths \u001b[38;5;241m=\u001b[39m [os\u001b[38;5;241m.\u001b[39mpath\u001b[38;5;241m.\u001b[39mjoin(folder_path, file) \u001b[38;5;28;01mfor\u001b[39;00m file \u001b[38;5;129;01min\u001b[39;00m \u001b[43mos\u001b[49m\u001b[38;5;241;43m.\u001b[39;49m\u001b[43mlistdir\u001b[49m\u001b[43m(\u001b[49m\u001b[43mfolder_path\u001b[49m\u001b[43m)\u001b[49m \u001b[38;5;28;01mif\u001b[39;00m file\u001b[38;5;241m.\u001b[39mendswith(\u001b[38;5;124m'\u001b[39m\u001b[38;5;124m.csv\u001b[39m\u001b[38;5;124m'\u001b[39m)]\n\u001b[0;32m      8\u001b[0m     \u001b[38;5;66;03m# List to store DataFrames\u001b[39;00m\n\u001b[0;32m      9\u001b[0m     dfs \u001b[38;5;241m=\u001b[39m []\n",
      "\u001b[1;31mFileNotFoundError\u001b[0m: [WinError 3] Le chemin d’accès spécifié est introuvable: '/home/jakob/Uni/data_visualization/Rastetter-Dietrich-Denig/data'"
     ]
    }
   ],
   "source": [
    "import pandas as pd\n",
    "import os\n",
    "\n",
    "def process_csv_files(folder_path):\n",
    "    # Get list of all CSV files in the folder\n",
    "    file_paths = [os.path.join(folder_path, file) for file in os.listdir(folder_path) if file.endswith('.csv')]\n",
    "\n",
    "    # List to store DataFrames\n",
    "    dfs = []\n",
    "\n",
    "    for file_path in file_paths:\n",
    "        df = pd.read_csv(file_path)\n",
    "\n",
    "        # Rename columns\n",
    "        df.rename(columns={\n",
    "            'Year(s)': 'Year',\n",
    "            'Time Period': 'Year', \n",
    "            'Reference Area': 'Country or Area',\n",
    "            'Observation Value': 'Value', \n",
    "            'Country or territory of origin': 'Country or Area',\n",
    "            'Refugees*': 'Value'},\n",
    "        inplace=True)\n",
    "\n",
    "        # Filter out rows with year 2101\n",
    "        df = df[df['Year'] != 2101]\n",
    "\n",
    "        # Filter rows where 'Sex' column is 'all genders'\n",
    "        if 'Sex' in df.columns:\n",
    "            df = df[df['Sex'] == 'All genders']\n",
    "\n",
    "        # Filter columns\n",
    "        df = df[['Country or Area', 'Year', 'Value']]\n",
    "\n",
    "        # Convert data types\n",
    "        df['Year'] = pd.to_numeric(df['Year'], errors='coerce')  # Convert to numeric, coerce errors to NaN\n",
    "        df['Value'] = pd.to_numeric(df['Value'], errors='coerce')  # Convert to numeric, coerce errors to NaN\n",
    "\n",
    "        # Extract the last part of the file path as the column suffix\n",
    "        file_name = os.path.splitext(os.path.basename(file_path))[0]\n",
    "\n",
    "        # Create custom column names\n",
    "        custom_names = [f'{file_name}' if col == 'Value' else col for col in ['Country or Area', 'Year', 'Value']]\n",
    "\n",
    "        # Rename columns\n",
    "        df.columns = custom_names\n",
    "        dfs.append(df)\n",
    "\n",
    "        # Find rows where 'Year' column contains 'Footnote'\n",
    "        rows_with_footnote = df[df['Year'] == 'Footnote']\n",
    "        if not rows_with_footnote.empty:\n",
    "            print(f\"Footnote found in file: {file_path}\")\n",
    "            print(rows_with_footnote)\n",
    "\n",
    "    # Merge the DataFrames based on 'Country or Area' and 'Year'\n",
    "    combined_df = dfs[0]\n",
    "    for df in dfs[1:]:\n",
    "        combined_df = pd.merge(combined_df, df, on=['Country or Area', 'Year'], how='outer')\n",
    "\n",
    "    # Regions to exclude\n",
    "    regions_to_exclude = ['Africa', 'Asia', 'Australia/New Zealand', 'Australia/New Zealand', 'World', 'Eastern Africa',\n",
    "                          'Eastern Africa', 'Eastern and South-Eastern Asia', 'Eastern Europe', 'High-income countries',\n",
    "                          'Land-locked Developing Countries (LLDC)', 'Less developed regions, excluding China',\n",
    "                          'Less developed regions',\n",
    "                          'Less developed regions, excluding least developed countries',\n",
    "                          'Small Island Developing States (SIDS)',\n",
    "                          'No income group available', 'Northern Africa', 'Northern Africa and Western Asia',\n",
    "                          'Northern America',\n",
    "                          'Northern Europe', 'Low-income countries', 'Middle-income countries', 'More developed regions',\n",
    "                          'Middle Africa',\n",
    "                          'Eastern Asia', 'Soutern Asia', 'Western Europe', 'Upper-middle-income countries',\n",
    "                          'Lower-middle-income countries',\n",
    "                          'Europe', 'South-Eastern Asia', 'Southern Europe', 'Southern Asia', 'Southern Africa',\n",
    "                          'Europe and Northern America',\n",
    "                          'Central Asia', 'Central America', 'Central and Southern Asia', 'Sub-Saharan Africa',\n",
    "                          'Least developed countries',\n",
    "                          'Latin America and the Caribbean', 'Western Africa', 'South America', 'Western Asia']\n",
    "\n",
    "    # Filter out regions\n",
    "    filtered_combined_df = combined_df[~combined_df['Country or Area'].isin(regions_to_exclude)]\n",
    "\n",
    "    indices_to_delete = [0, 1]\n",
    "    df = filtered_combined_df.drop(indices_to_delete)\n",
    "\n",
    "    return df\n",
    "\n",
    "# Call the function with the folder path\n",
    "folder_path = '/home/jakob/Uni/data_visualization/Rastetter-Dietrich-Denig/data'\n",
    "result_df = process_csv_files(folder_path)\n",
    "\n",
    "# Display the result DataFrame\n",
    "print(result_df.info())"
   ]
  },
  {
   "cell_type": "markdown",
   "id": "5fad03f6db0fc5d2",
   "metadata": {},
   "source": [
    "1. Wie haben sich die globalen Selbstmordraten in den letzten x Jahren entwickelt?"
   ]
  },
  {
   "cell_type": "code",
   "execution_count": null,
   "id": "a0dfbf0b4b31a8ad",
   "metadata": {
    "ExecuteTime": {
     "end_time": "2024-04-17T08:46:52.395557Z",
     "start_time": "2024-04-17T08:46:52.394255Z"
    }
   },
   "outputs": [],
   "source": []
  },
  {
   "cell_type": "markdown",
   "id": "c9506ce96c394300",
   "metadata": {},
   "source": [
    "2. Wie viel Prozent der Weltbevölkerung sind aktuell Flüchtlinge?"
   ]
  },
  {
   "cell_type": "code",
   "execution_count": null,
   "id": "b1eabab9821cdd79",
   "metadata": {
    "ExecuteTime": {
     "end_time": "2024-04-17T08:46:52.397052Z",
     "start_time": "2024-04-17T08:46:52.395994Z"
    }
   },
   "outputs": [],
   "source": []
  },
  {
   "cell_type": "markdown",
   "id": "2d934cfc439bc9",
   "metadata": {},
   "source": [
    "3. Bis 1990 hatten 19 Länder eine Präsidentin, wie viele hatten eine Präsisdentin bis heute?"
   ]
  },
  {
   "cell_type": "code",
   "execution_count": null,
   "id": "21a0aac8a65bbf48",
   "metadata": {
    "ExecuteTime": {
     "end_time": "2024-04-17T08:46:52.401074Z",
     "start_time": "2024-04-17T08:46:52.399472Z"
    }
   },
   "outputs": [],
   "source": []
  },
  {
   "cell_type": "markdown",
   "id": "16f21f4c0938acfc",
   "metadata": {},
   "source": [
    "4. An welchem der folgenden Gründe sterben die meisten Menschen in Afrika"
   ]
  },
  {
   "cell_type": "code",
   "execution_count": null,
   "id": "5ea23bd84a578ede",
   "metadata": {
    "ExecuteTime": {
     "end_time": "2024-04-17T08:46:52.402427Z",
     "start_time": "2024-04-17T08:46:52.401421Z"
    }
   },
   "outputs": [],
   "source": []
  },
  {
   "cell_type": "markdown",
   "id": "9088a78530226c35",
   "metadata": {},
   "source": [
    "5. Um wie viel Prozent hat sich die Bevölkerung in extremer Armut in den letzten x Jahren verändert?"
   ]
  },
  {
   "cell_type": "code",
   "execution_count": null,
   "id": "c545e7922ba1a44",
   "metadata": {
    "ExecuteTime": {
     "end_time": "2024-04-17T08:46:52.403845Z",
     "start_time": "2024-04-17T08:46:52.402778Z"
    }
   },
   "outputs": [],
   "source": []
  },
  {
   "cell_type": "markdown",
   "id": "f78351dd13f89cc5",
   "metadata": {},
   "source": [
    "6. Wie viele Jahre Schulbildung erfahren Menschen in reichen, mittleren und armene Ländern im Durchschnitt?"
   ]
  },
  {
   "cell_type": "code",
   "execution_count": null,
   "id": "4e6eded5f8b6becb",
   "metadata": {
    "ExecuteTime": {
     "end_time": "2024-04-17T08:46:52.405185Z",
     "start_time": "2024-04-17T08:46:52.404169Z"
    }
   },
   "outputs": [],
   "source": []
  },
  {
   "cell_type": "markdown",
   "id": "d3a94862b19c8234",
   "metadata": {},
   "source": [
    "7. Das Einkommen in reichen Ländern hat sich seit xxxx ca. verdoppelt, wie hat sich das Einkommen in dieser Zeit in armen Ländern entwickelt"
   ]
  },
  {
   "cell_type": "code",
   "execution_count": null,
   "id": "404d40729cc336a7",
   "metadata": {
    "ExecuteTime": {
     "end_time": "2024-04-17T08:46:52.406441Z",
     "start_time": "2024-04-17T08:46:52.405506Z"
    }
   },
   "outputs": [],
   "source": []
  },
  {
   "cell_type": "markdown",
   "id": "20aea3f236845305",
   "metadata": {},
   "source": [
    "8. Wie haben sich die Todesfälle durch Naturktastrophen in den letzten xx Jahren verändert?"
   ]
  },
  {
   "cell_type": "code",
   "execution_count": null,
   "id": "9a048a2ee8781875",
   "metadata": {
    "ExecuteTime": {
     "end_time": "2024-04-17T08:46:52.408131Z",
     "start_time": "2024-04-17T08:46:52.406971Z"
    }
   },
   "outputs": [],
   "source": []
  },
  {
   "cell_type": "markdown",
   "id": "6d270ac0b5cf097",
   "metadata": {},
   "source": [
    "9. Wie glücklich sind die Menschen weltweit"
   ]
  },
  {
   "cell_type": "code",
   "execution_count": null,
   "id": "5fd24ab4d1fe0ced",
   "metadata": {
    "ExecuteTime": {
     "end_time": "2024-04-17T08:46:52.409793Z",
     "start_time": "2024-04-17T08:46:52.408787Z"
    }
   },
   "outputs": [],
   "source": []
  },
  {
   "cell_type": "markdown",
   "id": "50b7bb0b6e37b472",
   "metadata": {},
   "source": [
    "10. Wie viel Prozent der Kinder unter 6 wurde mindestens einmal geimpft"
   ]
  },
  {
   "cell_type": "markdown",
   "id": "6a0438565c346f95",
   "metadata": {},
   "source": [
    "Fragen durch gapminder.org inspiriert"
   ]
  }
 ],
 "metadata": {
  "kernelspec": {
   "display_name": "Python 3 (ipykernel)",
   "language": "python",
   "name": "python3"
  },
  "language_info": {
   "codemirror_mode": {
    "name": "ipython",
    "version": 3
   },
   "file_extension": ".py",
   "mimetype": "text/x-python",
   "name": "python",
   "nbconvert_exporter": "python",
   "pygments_lexer": "ipython3",
   "version": "3.12.3"
  }
 },
 "nbformat": 4,
 "nbformat_minor": 5
}
