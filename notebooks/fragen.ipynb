{
 "cells": [
  {
   "metadata": {},
   "cell_type": "markdown",
   "source": [
    "Datenvorbereitung\n",
    "Definitionen von Armut, etc.\n",
    "Klassifizierung der einzelnen Steps nach Crisp-DM"
   ],
   "id": "48583ff41aacf455"
  },
  {
   "metadata": {
    "ExecuteTime": {
     "end_time": "2024-04-17T09:20:28.153976Z",
     "start_time": "2024-04-17T09:20:28.061156Z"
    }
   },
   "cell_type": "code",
   "source": [
    "import pandas as pd\n",
    "import os\n",
    "\n",
    "def process_csv_files(folder_path):\n",
    "    # Get list of all CSV files in the folder\n",
    "    file_paths = [os.path.join(folder_path, file) for file in os.listdir(folder_path) if file.endswith('.csv')]\n",
    "\n",
    "    # List to store DataFrames\n",
    "    dfs = []\n",
    "\n",
    "    for file_path in file_paths:\n",
    "        df = pd.read_csv(file_path)\n",
    "\n",
    "        # Rename columns\n",
    "        df.rename(columns={'Year(s)': 'Year', 'Time Period': 'Year', 'Reference Area': 'Country or Area',\n",
    "                           'Observation Value': 'Value', 'Country or territory of origin': 'Country or Area',\n",
    "                           'Refugees*': 'Value'},\n",
    "                  inplace=True)\n",
    "\n",
    "        # Filter out rows with year 2101\n",
    "        df = df[df['Year'] != 2101]\n",
    "\n",
    "        # Filter rows where 'Sex' column is 'all genders'\n",
    "        if 'Sex' in df.columns:\n",
    "            df = df[df['Sex'] == 'All genders']\n",
    "\n",
    "        # Filter columns\n",
    "        df = df[['Country or Area', 'Year', 'Value']]\n",
    "\n",
    "        # Convert data types\n",
    "        df['Year'] = pd.to_numeric(df['Year'], errors='coerce')  # Convert to numeric, coerce errors to NaN\n",
    "        df['Value'] = pd.to_numeric(df['Value'], errors='coerce')  # Convert to numeric, coerce errors to NaN\n",
    "\n",
    "        # Extract the last part of the file path as the column suffix\n",
    "        file_name = os.path.splitext(os.path.basename(file_path))[0]\n",
    "\n",
    "        # Create custom column names\n",
    "        custom_names = [f'{file_name}' if col == 'Value' else col for col in ['Country or Area', 'Year', 'Value']]\n",
    "\n",
    "        # Rename columns\n",
    "        df.columns = custom_names\n",
    "        dfs.append(df)\n",
    "\n",
    "    # Merge the DataFrames based on 'Country or Area' and 'Year'\n",
    "    combined_df = dfs[0]\n",
    "    for df in dfs[1:]:\n",
    "        combined_df = pd.merge(combined_df, df, on=['Country or Area', 'Year'], how='outer')\n",
    "\n",
    "    # Regions to exclude\n",
    "    regions_to_exclude = ['Africa', 'Asia', 'Australia/New Zealand', 'Australia/New Zealand', 'World', 'Eastern Africa',\n",
    "                          'Eastern Africa', 'Eastern and South-Eastern Asia', 'Eastern Europe', 'High-income countries',\n",
    "                          'Land-locked Developing Countries (LLDC)', 'Less developed regions, excluding China',\n",
    "                          'Less developed regions',\n",
    "                          'Less developed regions, excluding least developed countries',\n",
    "                          'Small Island Developing States (SIDS)',\n",
    "                          'No income group available', 'Northern Africa', 'Northern Africa and Western Asia',\n",
    "                          'Northern America',\n",
    "                          'Northern Europe', 'Low-income countries', 'Middle-income countries', 'More developed regions',\n",
    "                          'Middle Africa',\n",
    "                          'Eastern Asia', 'Soutern Asia', 'Western Europe', 'Upper-middle-income countries',\n",
    "                          'Lower-middle-income countries',\n",
    "                          'Europe', 'South-Eastern Asia', 'Southern Europe', 'Southern Asia', 'Southern Africa',\n",
    "                          'Europe and Northern America',\n",
    "                          'Central Asia', 'Central America', 'Central and Southern Asia', 'Sub-Saharan Africa',\n",
    "                          'Least developed countries',\n",
    "                          'Latin America and the Caribbean', 'Western Africa', 'South America', 'Western Asia']\n",
    "\n",
    "    # Filter out regions\n",
    "    filtered_combined_df = combined_df[~combined_df['Country or Area'].isin(regions_to_exclude)]\n",
    "\n",
    "    return filtered_combined_df\n",
    "\n",
    "# Call the function with the folder path\n",
    "folder_path = '/home/jakob/Uni/data_visualization/Rastetter-Dietrich-Denig/data'\n",
    "result_df = process_csv_files(folder_path)\n",
    "\n",
    "# Display the result DataFrame\n",
    "print(result_df.info())"
   ],
   "id": "85c2373292ccf8c0",
   "outputs": [
    {
     "ename": "KeyError",
     "evalue": "'Year'",
     "output_type": "error",
     "traceback": [
      "\u001B[0;31m---------------------------------------------------------------------------\u001B[0m",
      "\u001B[0;31mKeyError\u001B[0m                                  Traceback (most recent call last)",
      "File \u001B[0;32m/usr/lib/python3.11/site-packages/pandas/core/indexes/base.py:3802\u001B[0m, in \u001B[0;36mIndex.get_loc\u001B[0;34m(self, key, method, tolerance)\u001B[0m\n\u001B[1;32m   3801\u001B[0m \u001B[38;5;28;01mtry\u001B[39;00m:\n\u001B[0;32m-> 3802\u001B[0m     \u001B[38;5;28;01mreturn\u001B[39;00m \u001B[38;5;28;43mself\u001B[39;49m\u001B[38;5;241;43m.\u001B[39;49m\u001B[43m_engine\u001B[49m\u001B[38;5;241;43m.\u001B[39;49m\u001B[43mget_loc\u001B[49m\u001B[43m(\u001B[49m\u001B[43mcasted_key\u001B[49m\u001B[43m)\u001B[49m\n\u001B[1;32m   3803\u001B[0m \u001B[38;5;28;01mexcept\u001B[39;00m \u001B[38;5;167;01mKeyError\u001B[39;00m \u001B[38;5;28;01mas\u001B[39;00m err:\n",
      "File \u001B[0;32m/usr/lib/python3.11/site-packages/pandas/_libs/index.pyx:138\u001B[0m, in \u001B[0;36mpandas._libs.index.IndexEngine.get_loc\u001B[0;34m()\u001B[0m\n",
      "File \u001B[0;32m/usr/lib/python3.11/site-packages/pandas/_libs/index.pyx:165\u001B[0m, in \u001B[0;36mpandas._libs.index.IndexEngine.get_loc\u001B[0;34m()\u001B[0m\n",
      "File \u001B[0;32mpandas/_libs/hashtable_class_helper.pxi:5745\u001B[0m, in \u001B[0;36mpandas._libs.hashtable.PyObjectHashTable.get_item\u001B[0;34m()\u001B[0m\n",
      "File \u001B[0;32mpandas/_libs/hashtable_class_helper.pxi:5753\u001B[0m, in \u001B[0;36mpandas._libs.hashtable.PyObjectHashTable.get_item\u001B[0;34m()\u001B[0m\n",
      "\u001B[0;31mKeyError\u001B[0m: 'Year'",
      "\nThe above exception was the direct cause of the following exception:\n",
      "\u001B[0;31mKeyError\u001B[0m                                  Traceback (most recent call last)",
      "Cell \u001B[0;32mIn[33], line 75\u001B[0m\n\u001B[1;32m     73\u001B[0m \u001B[38;5;66;03m# Call the function with the folder path\u001B[39;00m\n\u001B[1;32m     74\u001B[0m folder_path \u001B[38;5;241m=\u001B[39m \u001B[38;5;124m'\u001B[39m\u001B[38;5;124m/home/jakob/Uni/data_visualization/Rastetter-Dietrich-Denig/data\u001B[39m\u001B[38;5;124m'\u001B[39m\n\u001B[0;32m---> 75\u001B[0m result_df \u001B[38;5;241m=\u001B[39m \u001B[43mprocess_csv_files\u001B[49m\u001B[43m(\u001B[49m\u001B[43mfolder_path\u001B[49m\u001B[43m)\u001B[49m\n\u001B[1;32m     77\u001B[0m \u001B[38;5;66;03m# Display the result DataFrame\u001B[39;00m\n\u001B[1;32m     78\u001B[0m \u001B[38;5;28mprint\u001B[39m(result_df\u001B[38;5;241m.\u001B[39minfo())\n",
      "Cell \u001B[0;32mIn[33], line 21\u001B[0m, in \u001B[0;36mprocess_csv_files\u001B[0;34m(folder_path)\u001B[0m\n\u001B[1;32m     15\u001B[0m df\u001B[38;5;241m.\u001B[39mrename(columns\u001B[38;5;241m=\u001B[39m{\u001B[38;5;124m'\u001B[39m\u001B[38;5;124mYear(s)\u001B[39m\u001B[38;5;124m'\u001B[39m: \u001B[38;5;124m'\u001B[39m\u001B[38;5;124mYear\u001B[39m\u001B[38;5;124m'\u001B[39m, \u001B[38;5;124m'\u001B[39m\u001B[38;5;124mTime Period\u001B[39m\u001B[38;5;124m'\u001B[39m: \u001B[38;5;124m'\u001B[39m\u001B[38;5;124mYear\u001B[39m\u001B[38;5;124m'\u001B[39m, \u001B[38;5;124m'\u001B[39m\u001B[38;5;124mReference Area\u001B[39m\u001B[38;5;124m'\u001B[39m: \u001B[38;5;124m'\u001B[39m\u001B[38;5;124mCountry or Area\u001B[39m\u001B[38;5;124m'\u001B[39m,\n\u001B[1;32m     16\u001B[0m                    \u001B[38;5;124m'\u001B[39m\u001B[38;5;124mObservation Value\u001B[39m\u001B[38;5;124m'\u001B[39m: \u001B[38;5;124m'\u001B[39m\u001B[38;5;124mValue\u001B[39m\u001B[38;5;124m'\u001B[39m, \u001B[38;5;124m'\u001B[39m\u001B[38;5;124mCountry or territory of origin\u001B[39m\u001B[38;5;124m'\u001B[39m: \u001B[38;5;124m'\u001B[39m\u001B[38;5;124mCountry or Area\u001B[39m\u001B[38;5;124m'\u001B[39m,\n\u001B[1;32m     17\u001B[0m                    \u001B[38;5;124m'\u001B[39m\u001B[38;5;124mRefugees*\u001B[39m\u001B[38;5;124m'\u001B[39m: \u001B[38;5;124m'\u001B[39m\u001B[38;5;124mValue\u001B[39m\u001B[38;5;124m'\u001B[39m},\n\u001B[1;32m     18\u001B[0m           inplace\u001B[38;5;241m=\u001B[39m\u001B[38;5;28;01mTrue\u001B[39;00m)\n\u001B[1;32m     20\u001B[0m \u001B[38;5;66;03m# Filter out rows with year 2101\u001B[39;00m\n\u001B[0;32m---> 21\u001B[0m df \u001B[38;5;241m=\u001B[39m df[\u001B[43mdf\u001B[49m\u001B[43m[\u001B[49m\u001B[38;5;124;43m'\u001B[39;49m\u001B[38;5;124;43mYear\u001B[39;49m\u001B[38;5;124;43m'\u001B[39;49m\u001B[43m]\u001B[49m \u001B[38;5;241m!=\u001B[39m \u001B[38;5;241m2101\u001B[39m]\n\u001B[1;32m     23\u001B[0m \u001B[38;5;66;03m# Filter rows where 'Sex' column is 'all genders'\u001B[39;00m\n\u001B[1;32m     24\u001B[0m \u001B[38;5;28;01mif\u001B[39;00m \u001B[38;5;124m'\u001B[39m\u001B[38;5;124mSex\u001B[39m\u001B[38;5;124m'\u001B[39m \u001B[38;5;129;01min\u001B[39;00m df\u001B[38;5;241m.\u001B[39mcolumns:\n",
      "File \u001B[0;32m/usr/lib/python3.11/site-packages/pandas/core/frame.py:3807\u001B[0m, in \u001B[0;36mDataFrame.__getitem__\u001B[0;34m(self, key)\u001B[0m\n\u001B[1;32m   3805\u001B[0m \u001B[38;5;28;01mif\u001B[39;00m \u001B[38;5;28mself\u001B[39m\u001B[38;5;241m.\u001B[39mcolumns\u001B[38;5;241m.\u001B[39mnlevels \u001B[38;5;241m>\u001B[39m \u001B[38;5;241m1\u001B[39m:\n\u001B[1;32m   3806\u001B[0m     \u001B[38;5;28;01mreturn\u001B[39;00m \u001B[38;5;28mself\u001B[39m\u001B[38;5;241m.\u001B[39m_getitem_multilevel(key)\n\u001B[0;32m-> 3807\u001B[0m indexer \u001B[38;5;241m=\u001B[39m \u001B[38;5;28;43mself\u001B[39;49m\u001B[38;5;241;43m.\u001B[39;49m\u001B[43mcolumns\u001B[49m\u001B[38;5;241;43m.\u001B[39;49m\u001B[43mget_loc\u001B[49m\u001B[43m(\u001B[49m\u001B[43mkey\u001B[49m\u001B[43m)\u001B[49m\n\u001B[1;32m   3808\u001B[0m \u001B[38;5;28;01mif\u001B[39;00m is_integer(indexer):\n\u001B[1;32m   3809\u001B[0m     indexer \u001B[38;5;241m=\u001B[39m [indexer]\n",
      "File \u001B[0;32m/usr/lib/python3.11/site-packages/pandas/core/indexes/base.py:3804\u001B[0m, in \u001B[0;36mIndex.get_loc\u001B[0;34m(self, key, method, tolerance)\u001B[0m\n\u001B[1;32m   3802\u001B[0m     \u001B[38;5;28;01mreturn\u001B[39;00m \u001B[38;5;28mself\u001B[39m\u001B[38;5;241m.\u001B[39m_engine\u001B[38;5;241m.\u001B[39mget_loc(casted_key)\n\u001B[1;32m   3803\u001B[0m \u001B[38;5;28;01mexcept\u001B[39;00m \u001B[38;5;167;01mKeyError\u001B[39;00m \u001B[38;5;28;01mas\u001B[39;00m err:\n\u001B[0;32m-> 3804\u001B[0m     \u001B[38;5;28;01mraise\u001B[39;00m \u001B[38;5;167;01mKeyError\u001B[39;00m(key) \u001B[38;5;28;01mfrom\u001B[39;00m \u001B[38;5;21;01merr\u001B[39;00m\n\u001B[1;32m   3805\u001B[0m \u001B[38;5;28;01mexcept\u001B[39;00m \u001B[38;5;167;01mTypeError\u001B[39;00m:\n\u001B[1;32m   3806\u001B[0m     \u001B[38;5;66;03m# If we have a listlike key, _check_indexing_error will raise\u001B[39;00m\n\u001B[1;32m   3807\u001B[0m     \u001B[38;5;66;03m#  InvalidIndexError. Otherwise we fall through and re-raise\u001B[39;00m\n\u001B[1;32m   3808\u001B[0m     \u001B[38;5;66;03m#  the TypeError.\u001B[39;00m\n\u001B[1;32m   3809\u001B[0m     \u001B[38;5;28mself\u001B[39m\u001B[38;5;241m.\u001B[39m_check_indexing_error(key)\n",
      "\u001B[0;31mKeyError\u001B[0m: 'Year'"
     ]
    }
   ],
   "execution_count": 33
  },
  {
   "metadata": {},
   "cell_type": "markdown",
   "source": "1. Wie haben sich die globalen Selbstmordraten in den letzten x Jahren entwickelt?",
   "id": "5fad03f6db0fc5d2"
  },
  {
   "metadata": {},
   "cell_type": "code",
   "source": "",
   "id": "a0dfbf0b4b31a8ad",
   "outputs": [],
   "execution_count": null
  },
  {
   "metadata": {},
   "cell_type": "markdown",
   "source": "2. Wie viel Prozent der Weltbevölkerung sind aktuell Flüchtlinge?",
   "id": "c9506ce96c394300"
  },
  {
   "metadata": {},
   "cell_type": "code",
   "source": "",
   "id": "b1eabab9821cdd79",
   "outputs": [],
   "execution_count": null
  },
  {
   "metadata": {},
   "cell_type": "markdown",
   "source": "3. Bis 1990 hatten 19 Länder eine Präsidentin, wie viele hatten eine Präsisdentin bis heute?",
   "id": "2d934cfc439bc9"
  },
  {
   "metadata": {},
   "cell_type": "code",
   "source": "",
   "id": "21a0aac8a65bbf48",
   "outputs": [],
   "execution_count": null
  },
  {
   "metadata": {},
   "cell_type": "markdown",
   "source": "4. An welchem der folgenden Gründe sterben die meisten Menschen in Afrika",
   "id": "16f21f4c0938acfc"
  },
  {
   "metadata": {},
   "cell_type": "code",
   "source": "",
   "id": "5ea23bd84a578ede",
   "outputs": [],
   "execution_count": null
  },
  {
   "metadata": {},
   "cell_type": "markdown",
   "source": "5. Um wie viel Prozent hat sich die Bevölkerung in extremer Armut in den letzten x Jahren verändert?",
   "id": "9088a78530226c35"
  },
  {
   "metadata": {},
   "cell_type": "code",
   "source": "",
   "id": "c545e7922ba1a44",
   "outputs": [],
   "execution_count": null
  },
  {
   "metadata": {},
   "cell_type": "markdown",
   "source": "6. Wie viele Jahre Schulbildung erfahren Menschen in reichen, mittleren und armene Ländern im Durchschnitt?",
   "id": "f78351dd13f89cc5"
  },
  {
   "metadata": {},
   "cell_type": "code",
   "source": "",
   "id": "4e6eded5f8b6becb",
   "outputs": [],
   "execution_count": null
  },
  {
   "metadata": {},
   "cell_type": "markdown",
   "source": "7. Das Einkommen in reichen Ländern hat sich seit xxxx ca. verdoppelt, wie hat sich das Einkommen in dieser Zeit in armen Ländern entwickelt",
   "id": "d3a94862b19c8234"
  },
  {
   "metadata": {},
   "cell_type": "code",
   "source": "",
   "id": "404d40729cc336a7",
   "outputs": [],
   "execution_count": null
  },
  {
   "metadata": {},
   "cell_type": "markdown",
   "source": "8. Wie haben sich die Todesfälle durch Naturktastrophen in den letzten xx Jahren verändert?",
   "id": "20aea3f236845305"
  },
  {
   "metadata": {},
   "cell_type": "code",
   "source": "",
   "id": "9a048a2ee8781875",
   "outputs": [],
   "execution_count": null
  },
  {
   "metadata": {},
   "cell_type": "markdown",
   "source": "9. Wie glücklich sind die Menschen weltweit",
   "id": "6d270ac0b5cf097"
  },
  {
   "metadata": {},
   "cell_type": "code",
   "source": "",
   "id": "5fd24ab4d1fe0ced",
   "outputs": [],
   "execution_count": null
  },
  {
   "metadata": {},
   "cell_type": "markdown",
   "source": "10. Wie viel Prozent der Kinder unter 6 wurde mindestens einmal geimpft",
   "id": "50b7bb0b6e37b472"
  },
  {
   "metadata": {},
   "cell_type": "markdown",
   "source": "Fragen durch gapminder.org inspiriert",
   "id": "6a0438565c346f95"
  }
 ],
 "metadata": {
  "kernelspec": {
   "name": "python3",
   "language": "python",
   "display_name": "Python 3 (ipykernel)"
  }
 },
 "nbformat": 4,
 "nbformat_minor": 5
}
