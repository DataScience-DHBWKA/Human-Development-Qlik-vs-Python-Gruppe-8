{
 "cells": [
  {
   "metadata": {},
   "cell_type": "raw",
   "source": [
    "Datenvorbereitung\n",
    "Definitionen von Armut, etc."
   ],
   "id": "1c74fae46f67c5a0"
  },
  {
   "metadata": {},
   "cell_type": "markdown",
   "source": "1. Wie haben sich die globalen Selbstmordraten in den letzten x Jahren entwickelt?",
   "id": "5fad03f6db0fc5d2"
  },
  {
   "metadata": {
    "ExecuteTime": {
     "end_time": "2024-04-12T08:31:49.809570Z",
     "start_time": "2024-04-12T08:31:49.807745Z"
    }
   },
   "cell_type": "code",
   "source": "",
   "id": "ae963b69e9c28747",
   "outputs": [],
   "execution_count": null
  },
  {
   "metadata": {},
   "cell_type": "markdown",
   "source": "2. Wie viel Prozent der Weltweit genutzen Energie kommt aus fosilen Energieträgern?",
   "id": "9fbd24fa47c510eb"
  },
  {
   "metadata": {
    "ExecuteTime": {
     "end_time": "2024-04-12T08:31:49.843366Z",
     "start_time": "2024-04-12T08:31:49.841469Z"
    }
   },
   "cell_type": "code",
   "source": "",
   "id": "27bac216da87c6e1",
   "outputs": [],
   "execution_count": null
  },
  {
   "metadata": {},
   "cell_type": "markdown",
   "source": "3. Welches Rohmaterial (außer Wasser) wird am meisten genutzt?",
   "id": "61bcb15f6ceb3d04"
  },
  {
   "metadata": {
    "ExecuteTime": {
     "end_time": "2024-04-12T08:31:49.845813Z",
     "start_time": "2024-04-12T08:31:49.844178Z"
    }
   },
   "cell_type": "code",
   "source": "",
   "id": "a0dfbf0b4b31a8ad",
   "outputs": [],
   "execution_count": null
  },
  {
   "metadata": {},
   "cell_type": "markdown",
   "source": "4. Wie viel Prozent der Weltbevölkerung sind aktuell Flüchtlinge?",
   "id": "c9506ce96c394300"
  },
  {
   "metadata": {
    "ExecuteTime": {
     "end_time": "2024-04-12T08:31:49.847777Z",
     "start_time": "2024-04-12T08:31:49.846504Z"
    }
   },
   "cell_type": "code",
   "source": "",
   "id": "b1eabab9821cdd79",
   "outputs": [],
   "execution_count": null
  },
  {
   "metadata": {},
   "cell_type": "markdown",
   "source": "5. Bis 1990 hatten 19 Länder eine Präsidentin, wie viele hatten eine Präsisdentin bis heute?",
   "id": "2d934cfc439bc9"
  },
  {
   "metadata": {
    "ExecuteTime": {
     "end_time": "2024-04-12T08:31:49.851162Z",
     "start_time": "2024-04-12T08:31:49.849637Z"
    }
   },
   "cell_type": "code",
   "source": "",
   "id": "21a0aac8a65bbf48",
   "outputs": [],
   "execution_count": null
  },
  {
   "metadata": {},
   "cell_type": "markdown",
   "source": "6. An weclhem der folgenden Gründe sterben die meisten Menschen in Afrika",
   "id": "16f21f4c0938acfc"
  },
  {
   "metadata": {
    "ExecuteTime": {
     "end_time": "2024-04-12T08:31:49.853624Z",
     "start_time": "2024-04-12T08:31:49.852308Z"
    }
   },
   "cell_type": "code",
   "source": "",
   "id": "5ea23bd84a578ede",
   "outputs": [],
   "execution_count": null
  },
  {
   "metadata": {},
   "cell_type": "markdown",
   "source": "7. Um wie viel Prozent hat sich die Bevölkerung in extremer Armut in den letzten x Jahren verändert?",
   "id": "9088a78530226c35"
  },
  {
   "metadata": {
    "ExecuteTime": {
     "end_time": "2024-04-12T08:31:49.859638Z",
     "start_time": "2024-04-12T08:31:49.857905Z"
    }
   },
   "cell_type": "code",
   "source": "",
   "id": "c545e7922ba1a44",
   "outputs": [],
   "execution_count": null
  },
  {
   "metadata": {},
   "cell_type": "markdown",
   "source": "8. Schulbildungsfrage",
   "id": "f78351dd13f89cc5"
  },
  {
   "metadata": {
    "ExecuteTime": {
     "end_time": "2024-04-12T08:31:49.861727Z",
     "start_time": "2024-04-12T08:31:49.860336Z"
    }
   },
   "cell_type": "code",
   "source": "",
   "id": "4e6eded5f8b6becb",
   "outputs": [],
   "execution_count": null
  },
  {
   "metadata": {},
   "cell_type": "markdown",
   "source": "9. Das Einkommen in reichen Ländern hat sich seit xxxx ca. verdoppelt, wie hat sich das Einkommen in dieser Zeit in armen Ländern entwickelt",
   "id": "d3a94862b19c8234"
  },
  {
   "metadata": {
    "ExecuteTime": {
     "end_time": "2024-04-12T08:31:49.881877Z",
     "start_time": "2024-04-12T08:31:49.879847Z"
    }
   },
   "cell_type": "code",
   "source": "",
   "id": "404d40729cc336a7",
   "outputs": [],
   "execution_count": null
  },
  {
   "metadata": {},
   "cell_type": "markdown",
   "source": "10. Wie haben sich die Todesfälle durch Naturktastrophen in den letzten xx Jahren verändert?",
   "id": "20aea3f236845305"
  },
  {
   "metadata": {
    "ExecuteTime": {
     "end_time": "2024-04-12T08:31:49.884921Z",
     "start_time": "2024-04-12T08:31:49.883340Z"
    }
   },
   "cell_type": "code",
   "source": "",
   "id": "9a048a2ee8781875",
   "outputs": [],
   "execution_count": null
  },
  {
   "metadata": {},
   "cell_type": "markdown",
   "source": "11. Wie viele Menschen weltweit sind über xx Jahren alt?",
   "id": "6d270ac0b5cf097"
  },
  {
   "metadata": {
    "ExecuteTime": {
     "end_time": "2024-04-12T08:31:49.893613Z",
     "start_time": "2024-04-12T08:31:49.891350Z"
    }
   },
   "cell_type": "code",
   "source": "",
   "id": "5fd24ab4d1fe0ced",
   "outputs": [],
   "execution_count": null
  },
  {
   "metadata": {},
   "cell_type": "markdown",
   "source": "12. Impfungsfrage",
   "id": "50b7bb0b6e37b472"
  },
  {
   "metadata": {},
   "cell_type": "markdown",
   "source": "Fragen durch gapminder.org inspiriert",
   "id": "6a0438565c346f95"
  }
 ],
 "metadata": {
  "kernelspec": {
   "name": "python3",
   "language": "python",
   "display_name": "Python 3 (ipykernel)"
  }
 },
 "nbformat": 4,
 "nbformat_minor": 5
}
