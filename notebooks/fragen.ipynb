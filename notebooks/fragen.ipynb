{
 "cells": [
  {
   "metadata": {},
   "cell_type": "markdown",
   "source": [
    "Datenvorbereitung\n",
    "Definitionen von Armut, etc.\n",
    "Klassifizierung der einzelnen Steps nach Crisp-DM"
   ],
   "id": "48583ff41aacf455"
  },
  {
   "metadata": {
    "ExecuteTime": {
     "end_time": "2024-04-17T08:02:11.883985Z",
     "start_time": "2024-04-17T08:02:11.736761Z"
    }
   },
   "cell_type": "code",
   "source": [
    "import pandas as pd\n",
    "import os\n",
    "\n",
    "# Folder path containing CSV files\n",
    "folder_path = '/home/jakob/Uni/data_visualization/Rastetter-Dietrich-Denig/data'  # \"Medium\" predictions are used\n",
    "\n",
    "# Get list of all CSV files in the folder\n",
    "file_paths = [os.path.join(folder_path, file) for file in os.listdir(folder_path) if file.endswith('.csv')]\n",
    "\n",
    "# List to store DataFrames\n",
    "dfs = []\n",
    "\n",
    "# Read each CSV file into a DataFrame and rename columns\n",
    "for file_path in file_paths:\n",
    "    df = pd.read_csv(file_path)\n",
    "\n",
    "    # Rename column 'Year(s)' to 'Year'\n",
    "    df.rename(columns={'Year(s)': 'Year', 'Time Period': 'Year', 'Reference Area': 'Country or Area',\n",
    "                       'Observation Value': 'Value'},\n",
    "              inplace=True)\n",
    "\n",
    "    df = df[(df['Year'] != 2101)]\n",
    "\n",
    "    if 'Sex' in df.columns:\n",
    "        # Filter rows where 'sex' column is 'all genders'\n",
    "        df = df[df['Sex'] == 'All genders']\n",
    "\n",
    "    # Filter columns\n",
    "    df = df[['Country or Area', 'Year', 'Value']]\n",
    "\n",
    "    # Extract the last part of the file path as the column suffix\n",
    "    file_name = os.path.splitext(os.path.basename(file_path))[0]\n",
    "\n",
    "    # Create custom column names\n",
    "    custom_names = [f'{file_name}' if col == 'Value' else col for col in ['Country or Area', 'Year', 'Value']]\n",
    "\n",
    "    # Rename columns\n",
    "    df.columns = custom_names\n",
    "    dfs.append(df)\n",
    "\n",
    "# Merge the DataFrames based on 'Country or Area' and 'Year'\n",
    "combined_df = dfs[0]\n",
    "for df in dfs[1:]:\n",
    "    combined_df = pd.merge(combined_df, df, on=['Country or Area', 'Year'], how='outer')\n",
    "# regions to filter out (NOT READY, ONLY SOME SELECTED), no list found to differ from country and area\n",
    "regions_to_exclude = ['Africa', 'Asia', 'Australia/New Zealand', 'Australia/New Zealand', 'World', 'Eastern Africa',\n",
    "                      'Eastern Africa', 'Eastern and South-Eastern Asia', 'Eastern Europe', 'High-income countries',\n",
    "                      'Land-locked Developing Countries (LLDC)', 'Less developed regions, excluding China',\n",
    "                      'Less developed regions',\n",
    "                      'Less developed regions, excluding least developed countries',\n",
    "                      'Small Island Developing States (SIDS)',\n",
    "                      'No income group available', 'Northern Africa', 'Northern Africa and Western Asia',\n",
    "                      'Northern America',\n",
    "                      'Northern Europe', 'Low-income countries', 'Middle-income countries', 'More developed regions',\n",
    "                      'Middle Africa',\n",
    "                      'Eastern Asia', 'Soutern Asia', 'Western Europe', 'Upper-middle-income countries',\n",
    "                      'Lower-middle-income countries',\n",
    "                      'Europe', 'South-Eastern Asia', 'Southern Europe', 'Southern Asia', 'Southern Africa',\n",
    "                      'Europe and Northern America',\n",
    "                      'Central Asia', 'Central America', 'Central and Southern Asia', 'Sub-Saharan Africa',\n",
    "                      'Least developed countries',\n",
    "                      'Latin America and the Caribbean', 'Western Africa', 'South America', 'Western Asia']\n",
    "\n",
    "\n",
    "def filter_regions(df, regions_to_exclude):\n",
    "    filtered_df = df[~df['Country or Area'].isin(regions_to_exclude)]\n",
    "    return filtered_df\n",
    "\n",
    "\n",
    "# filter out regions\n",
    "filtered_combined_df = filter_regions(combined_df, regions_to_exclude)\n",
    "\n",
    "display(filtered_combined_df.head(10))"
   ],
   "id": "85c2373292ccf8c0",
   "outputs": [
    {
     "data": {
      "text/plain": [
       "  Country or Area  Year  total_fertility_rate  \\\n",
       "0     Afghanistan  2100                1.8720   \n",
       "1     Afghanistan  2099                1.8764   \n",
       "2     Afghanistan  2098                1.8849   \n",
       "3     Afghanistan  2097                1.8816   \n",
       "4     Afghanistan  2096                1.8949   \n",
       "5     Afghanistan  2095                1.8984   \n",
       "6     Afghanistan  2094                1.9005   \n",
       "7     Afghanistan  2093                1.9010   \n",
       "8     Afghanistan  2092                1.9066   \n",
       "9     Afghanistan  2091                1.9044   \n",
       "\n",
       "   school_life_expextancy_ISCED_1-8  total_population  life_expectancy  \\\n",
       "0                               NaN        110854.784          77.5384   \n",
       "1                               NaN        110621.216          77.3909   \n",
       "2                               NaN        110366.921          77.2354   \n",
       "3                               NaN        110094.664          77.0851   \n",
       "4                               NaN        109802.281          76.9370   \n",
       "5                               NaN        109487.140          76.7848   \n",
       "6                               NaN        109153.078          76.6453   \n",
       "7                               NaN        108801.262          76.4932   \n",
       "8                               NaN        108430.416          76.3537   \n",
       "9                               NaN        108041.524          76.2051   \n",
       "\n",
       "   infant_mortality_rate  GDP_per_capita_constant_dollar_2017  \n",
       "0                 7.4881                                  NaN  \n",
       "1                 7.6078                                  NaN  \n",
       "2                 7.7567                                  NaN  \n",
       "3                 7.8799                                  NaN  \n",
       "4                 8.0198                                  NaN  \n",
       "5                 8.1644                                  NaN  \n",
       "6                 8.2910                                  NaN  \n",
       "7                 8.4333                                  NaN  \n",
       "8                 8.5686                                  NaN  \n",
       "9                 8.7096                                  NaN  "
      ],
      "text/html": [
       "<div>\n",
       "<style scoped>\n",
       "    .dataframe tbody tr th:only-of-type {\n",
       "        vertical-align: middle;\n",
       "    }\n",
       "\n",
       "    .dataframe tbody tr th {\n",
       "        vertical-align: top;\n",
       "    }\n",
       "\n",
       "    .dataframe thead th {\n",
       "        text-align: right;\n",
       "    }\n",
       "</style>\n",
       "<table border=\"1\" class=\"dataframe\">\n",
       "  <thead>\n",
       "    <tr style=\"text-align: right;\">\n",
       "      <th></th>\n",
       "      <th>Country or Area</th>\n",
       "      <th>Year</th>\n",
       "      <th>total_fertility_rate</th>\n",
       "      <th>school_life_expextancy_ISCED_1-8</th>\n",
       "      <th>total_population</th>\n",
       "      <th>life_expectancy</th>\n",
       "      <th>infant_mortality_rate</th>\n",
       "      <th>GDP_per_capita_constant_dollar_2017</th>\n",
       "    </tr>\n",
       "  </thead>\n",
       "  <tbody>\n",
       "    <tr>\n",
       "      <th>0</th>\n",
       "      <td>Afghanistan</td>\n",
       "      <td>2100</td>\n",
       "      <td>1.8720</td>\n",
       "      <td>NaN</td>\n",
       "      <td>110854.784</td>\n",
       "      <td>77.5384</td>\n",
       "      <td>7.4881</td>\n",
       "      <td>NaN</td>\n",
       "    </tr>\n",
       "    <tr>\n",
       "      <th>1</th>\n",
       "      <td>Afghanistan</td>\n",
       "      <td>2099</td>\n",
       "      <td>1.8764</td>\n",
       "      <td>NaN</td>\n",
       "      <td>110621.216</td>\n",
       "      <td>77.3909</td>\n",
       "      <td>7.6078</td>\n",
       "      <td>NaN</td>\n",
       "    </tr>\n",
       "    <tr>\n",
       "      <th>2</th>\n",
       "      <td>Afghanistan</td>\n",
       "      <td>2098</td>\n",
       "      <td>1.8849</td>\n",
       "      <td>NaN</td>\n",
       "      <td>110366.921</td>\n",
       "      <td>77.2354</td>\n",
       "      <td>7.7567</td>\n",
       "      <td>NaN</td>\n",
       "    </tr>\n",
       "    <tr>\n",
       "      <th>3</th>\n",
       "      <td>Afghanistan</td>\n",
       "      <td>2097</td>\n",
       "      <td>1.8816</td>\n",
       "      <td>NaN</td>\n",
       "      <td>110094.664</td>\n",
       "      <td>77.0851</td>\n",
       "      <td>7.8799</td>\n",
       "      <td>NaN</td>\n",
       "    </tr>\n",
       "    <tr>\n",
       "      <th>4</th>\n",
       "      <td>Afghanistan</td>\n",
       "      <td>2096</td>\n",
       "      <td>1.8949</td>\n",
       "      <td>NaN</td>\n",
       "      <td>109802.281</td>\n",
       "      <td>76.9370</td>\n",
       "      <td>8.0198</td>\n",
       "      <td>NaN</td>\n",
       "    </tr>\n",
       "    <tr>\n",
       "      <th>5</th>\n",
       "      <td>Afghanistan</td>\n",
       "      <td>2095</td>\n",
       "      <td>1.8984</td>\n",
       "      <td>NaN</td>\n",
       "      <td>109487.140</td>\n",
       "      <td>76.7848</td>\n",
       "      <td>8.1644</td>\n",
       "      <td>NaN</td>\n",
       "    </tr>\n",
       "    <tr>\n",
       "      <th>6</th>\n",
       "      <td>Afghanistan</td>\n",
       "      <td>2094</td>\n",
       "      <td>1.9005</td>\n",
       "      <td>NaN</td>\n",
       "      <td>109153.078</td>\n",
       "      <td>76.6453</td>\n",
       "      <td>8.2910</td>\n",
       "      <td>NaN</td>\n",
       "    </tr>\n",
       "    <tr>\n",
       "      <th>7</th>\n",
       "      <td>Afghanistan</td>\n",
       "      <td>2093</td>\n",
       "      <td>1.9010</td>\n",
       "      <td>NaN</td>\n",
       "      <td>108801.262</td>\n",
       "      <td>76.4932</td>\n",
       "      <td>8.4333</td>\n",
       "      <td>NaN</td>\n",
       "    </tr>\n",
       "    <tr>\n",
       "      <th>8</th>\n",
       "      <td>Afghanistan</td>\n",
       "      <td>2092</td>\n",
       "      <td>1.9066</td>\n",
       "      <td>NaN</td>\n",
       "      <td>108430.416</td>\n",
       "      <td>76.3537</td>\n",
       "      <td>8.5686</td>\n",
       "      <td>NaN</td>\n",
       "    </tr>\n",
       "    <tr>\n",
       "      <th>9</th>\n",
       "      <td>Afghanistan</td>\n",
       "      <td>2091</td>\n",
       "      <td>1.9044</td>\n",
       "      <td>NaN</td>\n",
       "      <td>108041.524</td>\n",
       "      <td>76.2051</td>\n",
       "      <td>8.7096</td>\n",
       "      <td>NaN</td>\n",
       "    </tr>\n",
       "  </tbody>\n",
       "</table>\n",
       "</div>"
      ]
     },
     "metadata": {},
     "output_type": "display_data"
    }
   ],
   "execution_count": 3
  },
  {
   "metadata": {},
   "cell_type": "markdown",
   "source": "1. Wie haben sich die globalen Selbstmordraten in den letzten x Jahren entwickelt?",
   "id": "5fad03f6db0fc5d2"
  },
  {
   "metadata": {
    "ExecuteTime": {
     "end_time": "2024-04-17T08:02:11.886573Z",
     "start_time": "2024-04-17T08:02:11.885091Z"
    }
   },
   "cell_type": "code",
   "source": "",
   "id": "a0dfbf0b4b31a8ad",
   "outputs": [],
   "execution_count": 3
  },
  {
   "metadata": {},
   "cell_type": "markdown",
   "source": "2. Wie viel Prozent der Weltbevölkerung sind aktuell Flüchtlinge?",
   "id": "c9506ce96c394300"
  },
  {
   "metadata": {
    "ExecuteTime": {
     "end_time": "2024-04-17T08:02:11.888139Z",
     "start_time": "2024-04-17T08:02:11.887036Z"
    }
   },
   "cell_type": "code",
   "source": "",
   "id": "b1eabab9821cdd79",
   "outputs": [],
   "execution_count": 3
  },
  {
   "metadata": {},
   "cell_type": "markdown",
   "source": "3. Bis 1990 hatten 19 Länder eine Präsidentin, wie viele hatten eine Präsisdentin bis heute?",
   "id": "2d934cfc439bc9"
  },
  {
   "metadata": {
    "ExecuteTime": {
     "end_time": "2024-04-17T08:02:11.890067Z",
     "start_time": "2024-04-17T08:02:11.888907Z"
    }
   },
   "cell_type": "code",
   "source": "",
   "id": "21a0aac8a65bbf48",
   "outputs": [],
   "execution_count": 3
  },
  {
   "metadata": {},
   "cell_type": "markdown",
   "source": "4. An welchem der folgenden Gründe sterben die meisten Menschen in Afrika",
   "id": "16f21f4c0938acfc"
  },
  {
   "metadata": {
    "ExecuteTime": {
     "end_time": "2024-04-17T08:02:11.891478Z",
     "start_time": "2024-04-17T08:02:11.890465Z"
    }
   },
   "cell_type": "code",
   "source": "",
   "id": "5ea23bd84a578ede",
   "outputs": [],
   "execution_count": 3
  },
  {
   "metadata": {},
   "cell_type": "markdown",
   "source": "5. Um wie viel Prozent hat sich die Bevölkerung in extremer Armut in den letzten x Jahren verändert?",
   "id": "9088a78530226c35"
  },
  {
   "metadata": {
    "ExecuteTime": {
     "end_time": "2024-04-17T08:02:11.893058Z",
     "start_time": "2024-04-17T08:02:11.891856Z"
    }
   },
   "cell_type": "code",
   "source": "",
   "id": "c545e7922ba1a44",
   "outputs": [],
   "execution_count": 3
  },
  {
   "metadata": {},
   "cell_type": "markdown",
   "source": "6. Wie viele Jahre Schulbildung erfahren Kinder im Durchschnitt?",
   "id": "f78351dd13f89cc5"
  },
  {
   "metadata": {
    "ExecuteTime": {
     "end_time": "2024-04-17T08:02:11.894465Z",
     "start_time": "2024-04-17T08:02:11.893467Z"
    }
   },
   "cell_type": "code",
   "source": "",
   "id": "4e6eded5f8b6becb",
   "outputs": [],
   "execution_count": 3
  },
  {
   "metadata": {},
   "cell_type": "markdown",
   "source": "7. Das Einkommen in reichen Ländern hat sich seit xxxx ca. verdoppelt, wie hat sich das Einkommen in dieser Zeit in armen Ländern entwickelt",
   "id": "d3a94862b19c8234"
  },
  {
   "metadata": {
    "ExecuteTime": {
     "end_time": "2024-04-17T08:02:11.895887Z",
     "start_time": "2024-04-17T08:02:11.894797Z"
    }
   },
   "cell_type": "code",
   "source": "",
   "id": "404d40729cc336a7",
   "outputs": [],
   "execution_count": 3
  },
  {
   "metadata": {},
   "cell_type": "markdown",
   "source": "8. Wie haben sich die Todesfälle durch Naturktastrophen in den letzten xx Jahren verändert?",
   "id": "20aea3f236845305"
  },
  {
   "metadata": {
    "ExecuteTime": {
     "end_time": "2024-04-17T08:02:11.897559Z",
     "start_time": "2024-04-17T08:02:11.896334Z"
    }
   },
   "cell_type": "code",
   "source": "",
   "id": "9a048a2ee8781875",
   "outputs": [],
   "execution_count": 3
  },
  {
   "metadata": {},
   "cell_type": "markdown",
   "source": "9. Wie glücklich sind die Menschen weltweit",
   "id": "6d270ac0b5cf097"
  },
  {
   "metadata": {
    "ExecuteTime": {
     "end_time": "2024-04-17T08:02:11.899518Z",
     "start_time": "2024-04-17T08:02:11.898378Z"
    }
   },
   "cell_type": "code",
   "source": "",
   "id": "5fd24ab4d1fe0ced",
   "outputs": [],
   "execution_count": 3
  },
  {
   "metadata": {},
   "cell_type": "markdown",
   "source": "10. Wie viel Prozent der Kinder unter 6 wurde mindestens einmal geimpft",
   "id": "50b7bb0b6e37b472"
  },
  {
   "metadata": {},
   "cell_type": "markdown",
   "source": "Fragen durch gapminder.org inspiriert",
   "id": "6a0438565c346f95"
  }
 ],
 "metadata": {
  "kernelspec": {
   "name": "python3",
   "language": "python",
   "display_name": "Python 3 (ipykernel)"
  }
 },
 "nbformat": 4,
 "nbformat_minor": 5
}
