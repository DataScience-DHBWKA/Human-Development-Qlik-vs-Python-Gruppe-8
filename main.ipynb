{
 "cells": [
  {
   "cell_type": "code",
   "execution_count": 2,
   "metadata": {},
   "outputs": [
    {
     "name": "stdout",
     "output_type": "stream",
     "text": [
      "  Country or Area  Year(s) Variant   Value\n",
      "0     Afghanistan     2101  Medium  0.0000\n",
      "1     Afghanistan     2100  Medium  7.4881\n",
      "2     Afghanistan     2099  Medium  7.6078\n",
      "3     Afghanistan     2098  Medium  7.7567\n",
      "4     Afghanistan     2097  Medium  7.8799\n"
     ]
    }
   ],
   "source": [
    "import pandas as pd\n",
    "\n",
    "#hello worl from new mac book air m3\n",
    "\n",
    "# List of file paths\n",
    "file_paths = ['infant_mortality_rate.csv', 'total_fertility_rate.csv']\n",
    "\n",
    "# List to store DataFrames\n",
    "dfs = []\n",
    "\n",
    "# Read each CSV file into a DataFrame\n",
    "for file_path in file_paths:\n",
    "    df = pd.read_csv(file_path)\n",
    "    dfs.append(df)\n",
    "\n",
    "# Combine the DataFrames\n",
    "combined_df = pd.concat(dfs)\n",
    "\n",
    "# Handle missing or duplicate data\n",
    "combined_df.drop_duplicates(inplace=True)\n",
    "combined_df.fillna(0, inplace=True)  # Replace NaN values with 0\n",
    "\n",
    "# Display combined DataFrame\n",
    "print(combined_df.head())\n"
   ]
  },
  {
   "cell_type": "code",
   "execution_count": null,
   "metadata": {},
   "outputs": [],
   "source": []
  },
  {
   "cell_type": "code",
   "execution_count": null,
   "metadata": {},
   "outputs": [],
   "source": []
  }
 ],
 "metadata": {
  "kernelspec": {
   "display_name": "Python 3",
   "language": "python",
   "name": "python3"
  },
  "language_info": {
   "codemirror_mode": {
    "name": "ipython",
    "version": 3
   },
   "file_extension": ".py",
   "mimetype": "text/x-python",
   "name": "python",
   "nbconvert_exporter": "python",
   "pygments_lexer": "ipython3",
   "version": "3.11.8"
  }
 },
 "nbformat": 4,
 "nbformat_minor": 2
}
